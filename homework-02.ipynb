{
 "cells": [
  {
   "cell_type": "code",
   "execution_count": 1,
   "metadata": {},
   "outputs": [],
   "source": [
    "import pandas as pd\n",
    "import numpy as np\n",
    "from sklearn.preprocessing import LabelEncoder"
   ]
  },
  {
   "cell_type": "code",
   "execution_count": 2,
   "metadata": {},
   "outputs": [
    {
     "name": "stdout",
     "output_type": "stream",
     "text": [
      "total (rows) : \n",
      " 2160 \n",
      "\n"
     ]
    },
    {
     "data": {
      "text/html": [
       "<div>\n",
       "<style scoped>\n",
       "    .dataframe tbody tr th:only-of-type {\n",
       "        vertical-align: middle;\n",
       "    }\n",
       "\n",
       "    .dataframe tbody tr th {\n",
       "        vertical-align: top;\n",
       "    }\n",
       "\n",
       "    .dataframe thead th {\n",
       "        text-align: right;\n",
       "    }\n",
       "</style>\n",
       "<table border=\"1\" class=\"dataframe\">\n",
       "  <thead>\n",
       "    <tr style=\"text-align: right;\">\n",
       "      <th></th>\n",
       "      <th>Laptop</th>\n",
       "      <th>Status</th>\n",
       "      <th>Brand</th>\n",
       "      <th>Model</th>\n",
       "      <th>CPU</th>\n",
       "      <th>RAM</th>\n",
       "      <th>Storage</th>\n",
       "      <th>Storage type</th>\n",
       "      <th>GPU</th>\n",
       "      <th>Screen</th>\n",
       "      <th>Touch</th>\n",
       "      <th>Final Price</th>\n",
       "    </tr>\n",
       "  </thead>\n",
       "  <tbody>\n",
       "    <tr>\n",
       "      <th>0</th>\n",
       "      <td>ASUS ExpertBook B1 B1502CBA-EJ0436X Intel Core...</td>\n",
       "      <td>New</td>\n",
       "      <td>Asus</td>\n",
       "      <td>ExpertBook</td>\n",
       "      <td>Intel Core i5</td>\n",
       "      <td>8</td>\n",
       "      <td>512</td>\n",
       "      <td>SSD</td>\n",
       "      <td>NaN</td>\n",
       "      <td>15.6</td>\n",
       "      <td>No</td>\n",
       "      <td>1009.0</td>\n",
       "    </tr>\n",
       "    <tr>\n",
       "      <th>1</th>\n",
       "      <td>Alurin Go Start Intel Celeron N4020/8GB/256GB ...</td>\n",
       "      <td>New</td>\n",
       "      <td>Alurin</td>\n",
       "      <td>Go</td>\n",
       "      <td>Intel Celeron</td>\n",
       "      <td>8</td>\n",
       "      <td>256</td>\n",
       "      <td>SSD</td>\n",
       "      <td>NaN</td>\n",
       "      <td>15.6</td>\n",
       "      <td>No</td>\n",
       "      <td>299.0</td>\n",
       "    </tr>\n",
       "  </tbody>\n",
       "</table>\n",
       "</div>"
      ],
      "text/plain": [
       "                                              Laptop Status   Brand  \\\n",
       "0  ASUS ExpertBook B1 B1502CBA-EJ0436X Intel Core...    New    Asus   \n",
       "1  Alurin Go Start Intel Celeron N4020/8GB/256GB ...    New  Alurin   \n",
       "\n",
       "        Model            CPU  RAM  Storage Storage type  GPU  Screen Touch  \\\n",
       "0  ExpertBook  Intel Core i5    8      512          SSD  NaN    15.6    No   \n",
       "1          Go  Intel Celeron    8      256          SSD  NaN    15.6    No   \n",
       "\n",
       "   Final Price  \n",
       "0       1009.0  \n",
       "1        299.0  "
      ]
     },
     "metadata": {},
     "output_type": "display_data"
    }
   ],
   "source": [
    "df = pd.read_csv('laptops.csv')\n",
    "print(\"{} : \\n {} \\n\".format('total (rows)', len(df)))\n",
    "display(df.head(2))"
   ]
  },
  {
   "cell_type": "code",
   "execution_count": 3,
   "metadata": {},
   "outputs": [],
   "source": [
    "df.columns = df.columns.str.lower().str.replace(' ', '_')\n",
    "laptops = df.copy()"
   ]
  },
  {
   "cell_type": "code",
   "execution_count": 4,
   "metadata": {},
   "outputs": [
    {
     "data": {
      "text/plain": [
       "laptop             0\n",
       "status             0\n",
       "brand              0\n",
       "model              0\n",
       "cpu                0\n",
       "ram                0\n",
       "storage            0\n",
       "storage_type      42\n",
       "gpu             1371\n",
       "screen             4\n",
       "touch              0\n",
       "final_price        0\n",
       "dtype: int64"
      ]
     },
     "execution_count": 4,
     "metadata": {},
     "output_type": "execute_result"
    }
   ],
   "source": [
    "# Missing 157 values in total_bedrooms\n",
    "laptops.isnull().sum()"
   ]
  },
  {
   "cell_type": "code",
   "execution_count": 5,
   "metadata": {},
   "outputs": [
    {
     "name": "stdout",
     "output_type": "stream",
     "text": [
      "ram median =  16.0\n"
     ]
    }
   ],
   "source": [
    "print('ram median = ' , laptops['ram'].median())"
   ]
  },
  {
   "cell_type": "code",
   "execution_count": 6,
   "metadata": {},
   "outputs": [],
   "source": [
    "\n",
    "# Distributions of data\n",
    "n = len(laptops)\n",
    "n_train = int(0.6*n)\n",
    "n_val = int(0.2*n)\n",
    "#n_test = int(0.2*n)\n",
    "\n",
    "# Shuffle data\n",
    "np.random.seed(42)\n",
    "idx = np.arange(n)\n",
    "np.random.shuffle(idx)\n",
    "laptops_shuffled = laptops.iloc[idx] \n",
    "\n",
    "# Split data\n",
    "X_train = laptops_shuffled.iloc[:n_train].copy()\n",
    "X_val = laptops_shuffled.iloc[n_train:n_train + n_val].copy()\n",
    "X_test = laptops_shuffled.iloc[n_train+n_val:].copy()\n",
    "\n",
    "# Apply log transformation\n",
    "Y_train = np.log1p( X_train['final_price'] ).values\n",
    "Y_val = np.log1p( X_val['final_price'] ).values\n",
    "Y_test = np.log1p( X_test['final_price']).values \n",
    "\n",
    "# To avoid accidentally using the target variable\n",
    "del X_train['final_price']\n",
    "del X_val['final_price']\n",
    "del X_test['final_price']\n"
   ]
  },
  {
   "cell_type": "code",
   "execution_count": 7,
   "metadata": {},
   "outputs": [],
   "source": [
    "def encode_categorical(data):\n",
    "    label_encoders = {}\n",
    "    for column in data.columns:\n",
    "        if data[column].dtype == 'object':\n",
    "            le = LabelEncoder()\n",
    "            data[column] = le.fit_transform(data[column])\n",
    "            label_encoders[column] = le\n",
    "    return data, label_encoders"
   ]
  },
  {
   "cell_type": "code",
   "execution_count": 8,
   "metadata": {},
   "outputs": [],
   "source": [
    "# filling missing values with zeros and mean\n",
    "def handle_nan(df, feature, fillnan_with):\n",
    "    df_copy = df.copy()\n",
    "    if fillnan_with == 'mean':\n",
    "        df_copy[feature].fillna(value = df_copy[feature].mean())\n",
    "    elif fillnan_with == 'zero':\n",
    "        df_copy[feature].fillna(value = 0)\n",
    "        \n",
    "    return df_copy.values\n",
    "\n",
    "# Root mean squared error\n",
    "def rmse(y, y_pred):\n",
    "    error = y_pred - y\n",
    "    mse = (error ** 2).mean()\n",
    "    rmse = np.sqrt(mse)\n",
    "    return rmse"
   ]
  },
  {
   "cell_type": "code",
   "execution_count": 9,
   "metadata": {},
   "outputs": [],
   "source": [
    "def linear_regression(X, y):\n",
    "    X = np.array(X, dtype=float)  # Ensure X is numeric\n",
    "    y = np.array(y, dtype=float)  # Ensure y is numeric\n",
    "    X_0 = np.ones(X.shape[0])\n",
    "    X = np.column_stack([X_0, X])\n",
    "    XTX = X.T.dot(X)\n",
    "    XTX_inverse = np.linalg.inv(XTX)\n",
    "    w = XTX_inverse.dot(X.T).dot(y)\n",
    "    return X.dot(w)"
   ]
  },
  {
   "cell_type": "code",
   "execution_count": 10,
   "metadata": {},
   "outputs": [
    {
     "name": "stdout",
     "output_type": "stream",
     "text": [
      "RMSE for train set with zeros:  nan\n",
      "RMSE for train set with mean:  nan\n",
      "\n",
      "\n",
      "RMSE for validation set with zeros:  nan\n",
      "RMSE for validation set with mean:  nan\n"
     ]
    }
   ],
   "source": [
    "# Encode categorical features\n",
    "X_train, label_encoders_train = encode_categorical(X_train)\n",
    "X_val, label_encoders_val = encode_categorical(X_val)\n",
    "\n",
    "# filling missing values\n",
    "X_train_zeros = handle_nan(X_train, 'screen', 'zero')\n",
    "X_val_zeros = handle_nan(X_val, 'screen', 'zero')\n",
    "\n",
    "X_train_mean = handle_nan(X_train, 'screen', 'mean')\n",
    "X_val_mean = handle_nan(X_val, 'screen', 'mean')\n",
    "\n",
    "# For training set\n",
    "Y_pred = linear_regression(X_train_zeros, Y_train)\n",
    "rmse_train_zeros = rmse(Y_train, Y_pred)\n",
    "print('RMSE for train set with zeros: ',round(rmse_train_zeros, 2) )\n",
    "\n",
    "Y_pred = linear_regression(X_train_mean, Y_train)\n",
    "rmse_train_mean= rmse(Y_train, Y_pred)\n",
    "print('RMSE for train set with mean: ',round(rmse_train_mean, 2) )\n",
    "\n",
    "print('\\n')\n",
    "# For validation set\n",
    "Y_pred = linear_regression(X_val_zeros, Y_val)\n",
    "rmse_val_zeros = rmse(Y_val, Y_pred)\n",
    "print('RMSE for validation set with zeros: ', round(rmse_train_mean, 2) )\n",
    "\n",
    "Y_pred = linear_regression(X_val_mean, Y_val)\n",
    "rmse_val_mean = rmse(Y_val, Y_pred)\n",
    "print('RMSE for validation set with mean: ',round(rmse_train_mean, 2) )"
   ]
  },
  {
   "cell_type": "code",
   "execution_count": 11,
   "metadata": {},
   "outputs": [],
   "source": [
    "def ridge_regression(X, y, r = 0.0):\n",
    "    # adding ones in the dataset X\n",
    "    X_0 = np.ones(X.shape[0])\n",
    "    X = np.column_stack([X_0, X])\n",
    "\n",
    "    XTX = X.T.dot(X)\n",
    "    # add regularization term rI\n",
    "    I = np.eye(XTX.shape[0])\n",
    "    XTX_inverse = np.linalg.inv(XTX + r*I)\n",
    "    w = XTX_inverse.dot(X.T).dot(y)\n",
    "\n",
    "    Y_pred = X.dot(w)\n",
    "    return Y_pred, w"
   ]
  },
  {
   "cell_type": "code",
   "execution_count": 12,
   "metadata": {},
   "outputs": [
    {
     "name": "stdout",
     "output_type": "stream",
     "text": [
      "     0 nan\n",
      " 1e-06 nan\n",
      "0.0001 nan\n",
      " 0.001 nan\n",
      "  0.01 nan\n",
      "   0.1 nan\n",
      "     1 nan\n",
      "     5 nan\n",
      "    10 nan\n"
     ]
    }
   ],
   "source": [
    "# filling missing values with zeros\n",
    "X_train = handle_nan(X_train, 'screen', 'zero')\n",
    "X_val = handle_nan(X_val, 'screen', 'zero')\n",
    "\n",
    "\n",
    "for r in [0, 0.000001, 0.0001, 0.001, 0.01, 0.1, 1, 5, 10]:\n",
    "    Y_pred, _ = ridge_regression(X_val, Y_val, r=r)\n",
    "    rmse_val = round( rmse(Y_val, Y_pred), 5)\n",
    "    print('%06s %0.5f' % (r, rmse_val))\n"
   ]
  },
  {
   "cell_type": "code",
   "execution_count": 13,
   "metadata": {},
   "outputs": [],
   "source": [
    "def split_data(df, target_column, train_size = 0.6, \n",
    "               val_size = 0.2, seed = 42, log_transform = True):\n",
    "    \n",
    "    if train_size + val_size >= 1.0:\n",
    "        raise ValueError(\"Value larger then 1\")\n",
    "    \n",
    "    n = len(df)\n",
    "    n_train = int(train_size*n)\n",
    "    n_val = int(val_size*n)\n",
    "    \n",
    "    # Shuffle data\n",
    "    np.random.seed(seed)\n",
    "    idx = np.arange(n)\n",
    "    np.random.shuffle(idx)\n",
    "    df_shuffled = df.iloc[idx]\n",
    "\n",
    "    # Split data\n",
    "    X_train = df_shuffled.iloc[:n_train].copy()\n",
    "    X_val = df_shuffled.iloc[n_train:n_train + n_val].copy()\n",
    "    X_test = df_shuffled.iloc[n_train + n_val:].copy()\n",
    "\n",
    "    if log_transform:\n",
    "        Y_train = np.log1p(X_train[target_column]).values\n",
    "        Y_val = np.log1p(X_val[target_column]).values\n",
    "        Y_test = np.log1p(X_test[target_column]).values\n",
    "    else:\n",
    "        Y_train = X_train[target_column].values\n",
    "        Y_val = X_val[target_column].values\n",
    "        Y_test = X_test[target_column].values\n",
    "\n",
    "    del X_train[target_column]\n",
    "    del X_val[target_column]\n",
    "    del X_test[target_column]\n",
    "\n",
    "    # Fill missing values with zeros\n",
    "    X_train = handle_nan(X_train, 'screen', 'zero')\n",
    "    X_val = handle_nan(X_val, 'screen', 'zero')\n",
    "    X_test = handle_nan(X_test, 'screen', 'zero')\n",
    "\n",
    "    X = {'train':X_train, 'val':X_val, 'test':X_test}\n",
    "    Y = {'train': Y_train,'val':Y_val,'test': Y_test}\n",
    "\n",
    "    return X,Y"
   ]
  },
  {
   "cell_type": "code",
   "execution_count": 14,
   "metadata": {},
   "outputs": [
    {
     "data": {
      "text/html": [
       "<div>\n",
       "<style scoped>\n",
       "    .dataframe tbody tr th:only-of-type {\n",
       "        vertical-align: middle;\n",
       "    }\n",
       "\n",
       "    .dataframe tbody tr th {\n",
       "        vertical-align: top;\n",
       "    }\n",
       "\n",
       "    .dataframe thead th {\n",
       "        text-align: right;\n",
       "    }\n",
       "</style>\n",
       "<table border=\"1\" class=\"dataframe\">\n",
       "  <thead>\n",
       "    <tr style=\"text-align: right;\">\n",
       "      <th></th>\n",
       "      <th>laptop</th>\n",
       "      <th>status</th>\n",
       "      <th>brand</th>\n",
       "      <th>model</th>\n",
       "      <th>cpu</th>\n",
       "      <th>ram</th>\n",
       "      <th>storage</th>\n",
       "      <th>storage_type</th>\n",
       "      <th>gpu</th>\n",
       "      <th>screen</th>\n",
       "      <th>touch</th>\n",
       "      <th>final_price</th>\n",
       "    </tr>\n",
       "  </thead>\n",
       "  <tbody>\n",
       "    <tr>\n",
       "      <th>0</th>\n",
       "      <td>ASUS ExpertBook B1 B1502CBA-EJ0436X Intel Core...</td>\n",
       "      <td>New</td>\n",
       "      <td>Asus</td>\n",
       "      <td>ExpertBook</td>\n",
       "      <td>Intel Core i5</td>\n",
       "      <td>8</td>\n",
       "      <td>512</td>\n",
       "      <td>SSD</td>\n",
       "      <td>NaN</td>\n",
       "      <td>15.6</td>\n",
       "      <td>No</td>\n",
       "      <td>1009.0</td>\n",
       "    </tr>\n",
       "    <tr>\n",
       "      <th>1</th>\n",
       "      <td>Alurin Go Start Intel Celeron N4020/8GB/256GB ...</td>\n",
       "      <td>New</td>\n",
       "      <td>Alurin</td>\n",
       "      <td>Go</td>\n",
       "      <td>Intel Celeron</td>\n",
       "      <td>8</td>\n",
       "      <td>256</td>\n",
       "      <td>SSD</td>\n",
       "      <td>NaN</td>\n",
       "      <td>15.6</td>\n",
       "      <td>No</td>\n",
       "      <td>299.0</td>\n",
       "    </tr>\n",
       "  </tbody>\n",
       "</table>\n",
       "</div>"
      ],
      "text/plain": [
       "                                              laptop status   brand  \\\n",
       "0  ASUS ExpertBook B1 B1502CBA-EJ0436X Intel Core...    New    Asus   \n",
       "1  Alurin Go Start Intel Celeron N4020/8GB/256GB ...    New  Alurin   \n",
       "\n",
       "        model            cpu  ram  storage storage_type  gpu  screen touch  \\\n",
       "0  ExpertBook  Intel Core i5    8      512          SSD  NaN    15.6    No   \n",
       "1          Go  Intel Celeron    8      256          SSD  NaN    15.6    No   \n",
       "\n",
       "   final_price  \n",
       "0       1009.0  \n",
       "1        299.0  "
      ]
     },
     "metadata": {},
     "output_type": "display_data"
    },
    {
     "ename": "ValueError",
     "evalue": "could not convert string to float: 'Lenovo ThinkPad T15p Gen 2 Intel Core i7-11800H/16GB/512GB SSD/GTX 1650/15.6\"'",
     "output_type": "error",
     "traceback": [
      "\u001b[1;31m---------------------------------------------------------------------------\u001b[0m",
      "\u001b[1;31mValueError\u001b[0m                                Traceback (most recent call last)",
      "Cell \u001b[1;32mIn[14], line 8\u001b[0m\n\u001b[0;32m      6\u001b[0m \u001b[38;5;28;01mfor\u001b[39;00m seed \u001b[38;5;129;01min\u001b[39;00m seeds:\n\u001b[0;32m      7\u001b[0m     X,Y \u001b[38;5;241m=\u001b[39m split_data(df \u001b[38;5;241m=\u001b[39m laptops, target_column\u001b[38;5;241m=\u001b[39m \u001b[38;5;124m'\u001b[39m\u001b[38;5;124mfinal_price\u001b[39m\u001b[38;5;124m'\u001b[39m, seed \u001b[38;5;241m=\u001b[39m seed)\n\u001b[1;32m----> 8\u001b[0m     Y_pred \u001b[38;5;241m=\u001b[39m \u001b[43mlinear_regression\u001b[49m\u001b[43m(\u001b[49m\u001b[43mX\u001b[49m\u001b[43m[\u001b[49m\u001b[38;5;124;43m'\u001b[39;49m\u001b[38;5;124;43mval\u001b[39;49m\u001b[38;5;124;43m'\u001b[39;49m\u001b[43m]\u001b[49m\u001b[43m,\u001b[49m\u001b[43m \u001b[49m\u001b[43mY\u001b[49m\u001b[43m[\u001b[49m\u001b[38;5;124;43m'\u001b[39;49m\u001b[38;5;124;43mval\u001b[39;49m\u001b[38;5;124;43m'\u001b[39;49m\u001b[43m]\u001b[49m\u001b[43m)\u001b[49m\n\u001b[0;32m      9\u001b[0m     error \u001b[38;5;241m=\u001b[39m rmse(Y[\u001b[38;5;124m'\u001b[39m\u001b[38;5;124mval\u001b[39m\u001b[38;5;124m'\u001b[39m], Y_pred)\n\u001b[0;32m     11\u001b[0m     \u001b[38;5;28mprint\u001b[39m(\u001b[38;5;124m'\u001b[39m\u001b[38;5;132;01m%10s\u001b[39;00m\u001b[38;5;124m'\u001b[39m \u001b[38;5;241m%\u001b[39mseed, \u001b[38;5;28mround\u001b[39m( error, \u001b[38;5;241m3\u001b[39m) )\n",
      "Cell \u001b[1;32mIn[9], line 2\u001b[0m, in \u001b[0;36mlinear_regression\u001b[1;34m(X, y)\u001b[0m\n\u001b[0;32m      1\u001b[0m \u001b[38;5;28;01mdef\u001b[39;00m \u001b[38;5;21mlinear_regression\u001b[39m(X, y):\n\u001b[1;32m----> 2\u001b[0m     X \u001b[38;5;241m=\u001b[39m \u001b[43mnp\u001b[49m\u001b[38;5;241;43m.\u001b[39;49m\u001b[43marray\u001b[49m\u001b[43m(\u001b[49m\u001b[43mX\u001b[49m\u001b[43m,\u001b[49m\u001b[43m \u001b[49m\u001b[43mdtype\u001b[49m\u001b[38;5;241;43m=\u001b[39;49m\u001b[38;5;28;43mfloat\u001b[39;49m\u001b[43m)\u001b[49m  \u001b[38;5;66;03m# Ensure X is numeric\u001b[39;00m\n\u001b[0;32m      3\u001b[0m     y \u001b[38;5;241m=\u001b[39m np\u001b[38;5;241m.\u001b[39marray(y, dtype\u001b[38;5;241m=\u001b[39m\u001b[38;5;28mfloat\u001b[39m)  \u001b[38;5;66;03m# Ensure y is numeric\u001b[39;00m\n\u001b[0;32m      4\u001b[0m     X_0 \u001b[38;5;241m=\u001b[39m np\u001b[38;5;241m.\u001b[39mones(X\u001b[38;5;241m.\u001b[39mshape[\u001b[38;5;241m0\u001b[39m])\n",
      "\u001b[1;31mValueError\u001b[0m: could not convert string to float: 'Lenovo ThinkPad T15p Gen 2 Intel Core i7-11800H/16GB/512GB SSD/GTX 1650/15.6\"'"
     ]
    }
   ],
   "source": [
    "display(laptops.head(2))\n",
    "\n",
    "seeds = [0, 1, 2, 3, 4, 5, 6, 7, 8, 9]\n",
    "\n",
    "errors = []\n",
    "for seed in seeds:\n",
    "    X,Y = split_data(df = laptops, target_column= 'final_price', seed = seed)\n",
    "    Y_pred = linear_regression(X['val'], Y['val'])\n",
    "    error = rmse(Y['val'], Y_pred)\n",
    "\n",
    "    print('%10s' %seed, round( error, 3) )\n",
    "    errors.append( error )   \n",
    "\n",
    "print('Std =', round(np.std(errors), 3))"
   ]
  },
  {
   "cell_type": "code",
   "execution_count": 47,
   "metadata": {},
   "outputs": [
    {
     "ename": "TypeError",
     "evalue": "can't multiply sequence by non-int of type 'str'",
     "output_type": "error",
     "traceback": [
      "\u001b[1;31m---------------------------------------------------------------------------\u001b[0m",
      "\u001b[1;31mTypeError\u001b[0m                                 Traceback (most recent call last)",
      "Cell \u001b[1;32mIn[47], line 9\u001b[0m\n\u001b[0;32m      6\u001b[0m Y_train \u001b[38;5;241m=\u001b[39m np\u001b[38;5;241m.\u001b[39mconcatenate([ Y[\u001b[38;5;124m'\u001b[39m\u001b[38;5;124mtrain\u001b[39m\u001b[38;5;124m'\u001b[39m], Y[\u001b[38;5;124m'\u001b[39m\u001b[38;5;124mval\u001b[39m\u001b[38;5;124m'\u001b[39m]])\n\u001b[0;32m      8\u001b[0m \u001b[38;5;66;03m# Train model on train and validation and use in test set\u001b[39;00m\n\u001b[1;32m----> 9\u001b[0m _, w \u001b[38;5;241m=\u001b[39m \u001b[43mridge_regression\u001b[49m\u001b[43m(\u001b[49m\u001b[43mX_train\u001b[49m\u001b[43m,\u001b[49m\u001b[43m \u001b[49m\u001b[43mY_train\u001b[49m\u001b[43m,\u001b[49m\u001b[43m \u001b[49m\u001b[43mr\u001b[49m\u001b[43m \u001b[49m\u001b[38;5;241;43m=\u001b[39;49m\u001b[43m \u001b[49m\u001b[38;5;241;43m0.001\u001b[39;49m\u001b[43m)\u001b[49m\n\u001b[0;32m     11\u001b[0m \u001b[38;5;66;03m# Regression with the trained weights\u001b[39;00m\n\u001b[0;32m     12\u001b[0m Y_pred \u001b[38;5;241m=\u001b[39m w[\u001b[38;5;241m0\u001b[39m] \u001b[38;5;241m+\u001b[39m X[\u001b[38;5;124m'\u001b[39m\u001b[38;5;124mtest\u001b[39m\u001b[38;5;124m'\u001b[39m]\u001b[38;5;241m.\u001b[39mdot(w[\u001b[38;5;241m1\u001b[39m:])\n",
      "Cell \u001b[1;32mIn[46], line 6\u001b[0m, in \u001b[0;36mridge_regression\u001b[1;34m(X, y, r)\u001b[0m\n\u001b[0;32m      3\u001b[0m X_0 \u001b[38;5;241m=\u001b[39m np\u001b[38;5;241m.\u001b[39mones(X\u001b[38;5;241m.\u001b[39mshape[\u001b[38;5;241m0\u001b[39m])\n\u001b[0;32m      4\u001b[0m X \u001b[38;5;241m=\u001b[39m np\u001b[38;5;241m.\u001b[39mcolumn_stack([X_0, X])\n\u001b[1;32m----> 6\u001b[0m XTX \u001b[38;5;241m=\u001b[39m \u001b[43mX\u001b[49m\u001b[38;5;241;43m.\u001b[39;49m\u001b[43mT\u001b[49m\u001b[38;5;241;43m.\u001b[39;49m\u001b[43mdot\u001b[49m\u001b[43m(\u001b[49m\u001b[43mX\u001b[49m\u001b[43m)\u001b[49m\n\u001b[0;32m      7\u001b[0m \u001b[38;5;66;03m# add regularization term rI\u001b[39;00m\n\u001b[0;32m      8\u001b[0m I \u001b[38;5;241m=\u001b[39m np\u001b[38;5;241m.\u001b[39meye(XTX\u001b[38;5;241m.\u001b[39mshape[\u001b[38;5;241m0\u001b[39m])\n",
      "\u001b[1;31mTypeError\u001b[0m: can't multiply sequence by non-int of type 'str'"
     ]
    }
   ],
   "source": [
    "# Split data and fill missing values with zeros\n",
    "X,Y = split_data(df = laptops, target_column= 'final_price', seed = 9)\n",
    "\n",
    "# Combine train and validation\n",
    "X_train = np.concatenate([ X['train'], X['val']])\n",
    "Y_train = np.concatenate([ Y['train'], Y['val']])\n",
    "\n",
    "# Train model on train and validation and use in test set\n",
    "_, w = ridge_regression(X_train, Y_train, r = 0.001)\n",
    "\n",
    "# Regression with the trained weights\n",
    "Y_pred = w[0] + X['test'].dot(w[1:])\n",
    "\n",
    "\n",
    "print('RMSE on test set = ', round( rmse(Y['test'], Y_pred), 2))"
   ]
  }
 ],
 "metadata": {
  "kernelspec": {
   "display_name": "Python 3",
   "language": "python",
   "name": "python3"
  },
  "language_info": {
   "codemirror_mode": {
    "name": "ipython",
    "version": 3
   },
   "file_extension": ".py",
   "mimetype": "text/x-python",
   "name": "python",
   "nbconvert_exporter": "python",
   "pygments_lexer": "ipython3",
   "version": "3.9.0"
  },
  "orig_nbformat": 4
 },
 "nbformat": 4,
 "nbformat_minor": 2
}

